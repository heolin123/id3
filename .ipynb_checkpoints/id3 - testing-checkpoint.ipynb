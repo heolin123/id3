{
 "cells": [
  {
   "cell_type": "code",
   "execution_count": 220,
   "metadata": {
    "collapsed": true
   },
   "outputs": [],
   "source": [
    "import math\n",
    "import sys\n",
    "import pandas as pd\n",
    "import numpy as np"
   ]
  },
  {
   "cell_type": "code",
   "execution_count": 240,
   "metadata": {
    "collapsed": true
   },
   "outputs": [],
   "source": [
    "def entropy(elements, base):\n",
    "    length = float(len(elements))\n",
    "    probs = [elements.count(element)/length for element in set(elements)]\n",
    "    return -sum([p * math.log(p, base) for p in probs])"
   ]
  },
  {
   "cell_type": "code",
   "execution_count": 248,
   "metadata": {
    "collapsed": false
   },
   "outputs": [],
   "source": [
    "def split_dataframe(data, header):\n",
    "    unique_values = data[min_header].unique()\n",
    "    result_dict = {elem : pd.DataFrame for elem in unique_values}\n",
    "    for key in result_dict.keys():\n",
    "        result_dict[key] = data[:][data[min_header] == key]\n",
    "    return result_dict"
   ]
  },
  {
   "cell_type": "code",
   "execution_count": 262,
   "metadata": {
    "collapsed": false
   },
   "outputs": [],
   "source": [
    "raw_data = pd.DataFrame(pd.read_csv(\"data.tsv\", sep=\"\\t\"))\n",
    "headers = list(raw_data)[1:]\n",
    "target_header = \"PlayTennis\"\n",
    "base = 2"
   ]
  },
  {
   "cell_type": "code",
   "execution_count": 263,
   "metadata": {
    "collapsed": false
   },
   "outputs": [
    {
     "name": "stdout",
     "output_type": "stream",
     "text": [
      "0.985228136034 Wind\n"
     ]
    }
   ],
   "source": [
    "min_value, min_header = sys.maxint, None\n",
    "for header in headers[1:-1]:\n",
    "    h = entropy(data[header].tolist(), base)\n",
    "    if h < min_value:\n",
    "        min_value, min_header = h, header\n",
    "print min_value, min_header"
   ]
  },
  {
   "cell_type": "code",
   "execution_count": 325,
   "metadata": {
    "collapsed": false
   },
   "outputs": [],
   "source": [
    "def tree_split(data):\n",
    "    length = float(len(data))\n",
    "    max_value, max_header = -sys.maxint, None\n",
    "    max_splited = None\n",
    "    for header in list(data)[:-1]:\n",
    "        H = entropy(data[header].tolist(), base)\n",
    "        splited_set = split_dataframe(data, header)\n",
    "        IS = 0\n",
    "        for subset_header, subset in splited_set.items():\n",
    "            subset_length = float(len(subset))\n",
    "            subset_h = entropy(subset[target_header].tolist(), base)\n",
    "            IS += subset_length/length * subset_h\n",
    "        IG = H - IS\n",
    "        print IG, header\n",
    "        if IG > max_value:\n",
    "            max_value, max_header = IG, header\n",
    "            max_splited = splited\n",
    "\n",
    "    return max_value, max_header, max_splited\n"
   ]
  },
  {
   "cell_type": "code",
   "execution_count": 326,
   "metadata": {
    "collapsed": false
   },
   "outputs": [
    {
     "name": "stdout",
     "output_type": "stream",
     "text": [
      "0.68524735459 Outlook\n",
      "0.6644977792 Temperature\n",
      "0.107841071738 Humidity\n",
      "0.0930692077719 Wind\n",
      "Outlook\n",
      "['Temperature', 'Humidity', 'Wind', 'PlayTennis']\n",
      "0.459147917027 Temperature\n",
      "0.0 Humidity\n",
      "-1.0 Wind\n",
      "Temperature\n",
      "0.75 Temperature\n",
      "0.188721875541 Humidity\n",
      "-0.811278124459 Wind\n",
      "Temperature\n"
     ]
    }
   ],
   "source": [
    "max_value, max_header, max_splited = tree_split(data[headers])\n",
    "new_headers = [header for header in headers if header != max_header]\n",
    "print max_header\n",
    "print new_headers\n",
    "for split_value, split_data in max_splited.items():\n",
    "    max_value, max_header, max_splited = tree_split(split_data[new_headers])\n",
    "    print max_header"
   ]
  },
  {
   "cell_type": "code",
   "execution_count": 327,
   "metadata": {
    "collapsed": false
   },
   "outputs": [],
   "source": [
    "class ID3Tree(object):\n",
    "    class Node(object):\n",
    "        def __init__(self, name):\n",
    "            self.name = name\n",
    "            self.connections = {}\n",
    "        \n",
    "        def connect(self, label, node):\n",
    "            self.connections[label] = node\n",
    "        \n",
    "    \n",
    "    def __init__(self, data, target_header, base=2):\n",
    "        self.headers = list(data)[1:]\n",
    "        self.data = data\n",
    "        self.target_header = target_header\n",
    "        self.base = base\n",
    "        self.root = self.Node(\"Root\")\n",
    "        \n",
    "    def build(self):\n",
    "        self.step(self.root, \"\", self.data, self.headers)\n",
    "        \n",
    "        \n",
    "    def step(self, parent_node, parent_connection_label, data, headers):\n",
    "        max_value, max_header, max_splited = tree_split(data[headers])\n",
    "        \n",
    "        if not max_header:\n",
    "            return\n",
    "\n",
    "        node = self.Node(max_header)\n",
    "        parent_node.connect(parent_connection_label, node)\n",
    "        \n",
    "        new_headers = [header for header in headers if header != max_header]\n",
    "         \n",
    "        for splited_value, splited_data in max_splited.items():\n",
    "            self.step(node, splited_value, splited_data, new_headers)\n",
    "        \n",
    "        \n",
    "        "
   ]
  },
  {
   "cell_type": "code",
   "execution_count": 328,
   "metadata": {
    "collapsed": false
   },
   "outputs": [
    {
     "name": "stdout",
     "output_type": "stream",
     "text": [
      "0.68524735459 Outlook\n",
      "0.6644977792 Temperature\n",
      "0.107841071738 Humidity\n",
      "0.0930692077719 Wind\n",
      "['Outlook', 'Temperature', 'Humidity', 'Wind', 'PlayTennis'] Outlook\n",
      "0.459147917027 Temperature\n",
      "0.0 Humidity\n",
      "-1.0 Wind\n",
      "['Temperature', 'Humidity', 'Wind', 'PlayTennis'] Temperature\n",
      "0.0 Humidity\n",
      "-1.0 Wind\n",
      "['Humidity', 'Wind', 'PlayTennis'] Humidity\n",
      "-1.0 Wind\n",
      "['Wind', 'PlayTennis'] Wind\n",
      "['PlayTennis'] None\n"
     ]
    },
    {
     "ename": "AttributeError",
     "evalue": "'NoneType' object has no attribute 'items'",
     "output_type": "error",
     "traceback": [
      "\u001b[1;31m---------------------------------------------------------------------------\u001b[0m",
      "\u001b[1;31mAttributeError\u001b[0m                            Traceback (most recent call last)",
      "\u001b[1;32m<ipython-input-328-fa131b50d096>\u001b[0m in \u001b[0;36m<module>\u001b[1;34m()\u001b[0m\n\u001b[0;32m      1\u001b[0m \u001b[0mtree\u001b[0m \u001b[1;33m=\u001b[0m \u001b[0mID3Tree\u001b[0m\u001b[1;33m(\u001b[0m\u001b[0mraw_data\u001b[0m\u001b[1;33m,\u001b[0m \u001b[1;34m\"PlayTennis\"\u001b[0m\u001b[1;33m)\u001b[0m\u001b[1;33m\u001b[0m\u001b[0m\n\u001b[1;32m----> 2\u001b[1;33m \u001b[0mtree\u001b[0m\u001b[1;33m.\u001b[0m\u001b[0mbuild\u001b[0m\u001b[1;33m(\u001b[0m\u001b[1;33m)\u001b[0m\u001b[1;33m\u001b[0m\u001b[0m\n\u001b[0m",
      "\u001b[1;32m<ipython-input-327-e14090a48019>\u001b[0m in \u001b[0;36mbuild\u001b[1;34m(self)\u001b[0m\n\u001b[0;32m     17\u001b[0m \u001b[1;33m\u001b[0m\u001b[0m\n\u001b[0;32m     18\u001b[0m     \u001b[1;32mdef\u001b[0m \u001b[0mbuild\u001b[0m\u001b[1;33m(\u001b[0m\u001b[0mself\u001b[0m\u001b[1;33m)\u001b[0m\u001b[1;33m:\u001b[0m\u001b[1;33m\u001b[0m\u001b[0m\n\u001b[1;32m---> 19\u001b[1;33m         \u001b[0mself\u001b[0m\u001b[1;33m.\u001b[0m\u001b[0mstep\u001b[0m\u001b[1;33m(\u001b[0m\u001b[0mself\u001b[0m\u001b[1;33m.\u001b[0m\u001b[0mroot\u001b[0m\u001b[1;33m,\u001b[0m \u001b[1;34m\"\"\u001b[0m\u001b[1;33m,\u001b[0m \u001b[0mself\u001b[0m\u001b[1;33m.\u001b[0m\u001b[0mdata\u001b[0m\u001b[1;33m,\u001b[0m \u001b[0mself\u001b[0m\u001b[1;33m.\u001b[0m\u001b[0mheaders\u001b[0m\u001b[1;33m)\u001b[0m\u001b[1;33m\u001b[0m\u001b[0m\n\u001b[0m\u001b[0;32m     20\u001b[0m \u001b[1;33m\u001b[0m\u001b[0m\n\u001b[0;32m     21\u001b[0m \u001b[1;33m\u001b[0m\u001b[0m\n",
      "\u001b[1;32m<ipython-input-327-e14090a48019>\u001b[0m in \u001b[0;36mstep\u001b[1;34m(self, parent_node, parent_connection_label, data, headers)\u001b[0m\n\u001b[0;32m     30\u001b[0m \u001b[1;33m\u001b[0m\u001b[0m\n\u001b[0;32m     31\u001b[0m         \u001b[1;32mfor\u001b[0m \u001b[0msplited_value\u001b[0m\u001b[1;33m,\u001b[0m \u001b[0msplited_data\u001b[0m \u001b[1;32min\u001b[0m \u001b[0mmax_splited\u001b[0m\u001b[1;33m.\u001b[0m\u001b[0mitems\u001b[0m\u001b[1;33m(\u001b[0m\u001b[1;33m)\u001b[0m\u001b[1;33m:\u001b[0m\u001b[1;33m\u001b[0m\u001b[0m\n\u001b[1;32m---> 32\u001b[1;33m             \u001b[0mself\u001b[0m\u001b[1;33m.\u001b[0m\u001b[0mstep\u001b[0m\u001b[1;33m(\u001b[0m\u001b[0mnode\u001b[0m\u001b[1;33m,\u001b[0m \u001b[0msplited_value\u001b[0m\u001b[1;33m,\u001b[0m \u001b[0msplited_data\u001b[0m\u001b[1;33m,\u001b[0m \u001b[0mnew_headers\u001b[0m\u001b[1;33m)\u001b[0m\u001b[1;33m\u001b[0m\u001b[0m\n\u001b[0m\u001b[0;32m     33\u001b[0m \u001b[1;33m\u001b[0m\u001b[0m\n\u001b[0;32m     34\u001b[0m \u001b[1;33m\u001b[0m\u001b[0m\n",
      "\u001b[1;32m<ipython-input-327-e14090a48019>\u001b[0m in \u001b[0;36mstep\u001b[1;34m(self, parent_node, parent_connection_label, data, headers)\u001b[0m\n\u001b[0;32m     30\u001b[0m \u001b[1;33m\u001b[0m\u001b[0m\n\u001b[0;32m     31\u001b[0m         \u001b[1;32mfor\u001b[0m \u001b[0msplited_value\u001b[0m\u001b[1;33m,\u001b[0m \u001b[0msplited_data\u001b[0m \u001b[1;32min\u001b[0m \u001b[0mmax_splited\u001b[0m\u001b[1;33m.\u001b[0m\u001b[0mitems\u001b[0m\u001b[1;33m(\u001b[0m\u001b[1;33m)\u001b[0m\u001b[1;33m:\u001b[0m\u001b[1;33m\u001b[0m\u001b[0m\n\u001b[1;32m---> 32\u001b[1;33m             \u001b[0mself\u001b[0m\u001b[1;33m.\u001b[0m\u001b[0mstep\u001b[0m\u001b[1;33m(\u001b[0m\u001b[0mnode\u001b[0m\u001b[1;33m,\u001b[0m \u001b[0msplited_value\u001b[0m\u001b[1;33m,\u001b[0m \u001b[0msplited_data\u001b[0m\u001b[1;33m,\u001b[0m \u001b[0mnew_headers\u001b[0m\u001b[1;33m)\u001b[0m\u001b[1;33m\u001b[0m\u001b[0m\n\u001b[0m\u001b[0;32m     33\u001b[0m \u001b[1;33m\u001b[0m\u001b[0m\n\u001b[0;32m     34\u001b[0m \u001b[1;33m\u001b[0m\u001b[0m\n",
      "\u001b[1;32m<ipython-input-327-e14090a48019>\u001b[0m in \u001b[0;36mstep\u001b[1;34m(self, parent_node, parent_connection_label, data, headers)\u001b[0m\n\u001b[0;32m     30\u001b[0m \u001b[1;33m\u001b[0m\u001b[0m\n\u001b[0;32m     31\u001b[0m         \u001b[1;32mfor\u001b[0m \u001b[0msplited_value\u001b[0m\u001b[1;33m,\u001b[0m \u001b[0msplited_data\u001b[0m \u001b[1;32min\u001b[0m \u001b[0mmax_splited\u001b[0m\u001b[1;33m.\u001b[0m\u001b[0mitems\u001b[0m\u001b[1;33m(\u001b[0m\u001b[1;33m)\u001b[0m\u001b[1;33m:\u001b[0m\u001b[1;33m\u001b[0m\u001b[0m\n\u001b[1;32m---> 32\u001b[1;33m             \u001b[0mself\u001b[0m\u001b[1;33m.\u001b[0m\u001b[0mstep\u001b[0m\u001b[1;33m(\u001b[0m\u001b[0mnode\u001b[0m\u001b[1;33m,\u001b[0m \u001b[0msplited_value\u001b[0m\u001b[1;33m,\u001b[0m \u001b[0msplited_data\u001b[0m\u001b[1;33m,\u001b[0m \u001b[0mnew_headers\u001b[0m\u001b[1;33m)\u001b[0m\u001b[1;33m\u001b[0m\u001b[0m\n\u001b[0m\u001b[0;32m     33\u001b[0m \u001b[1;33m\u001b[0m\u001b[0m\n\u001b[0;32m     34\u001b[0m \u001b[1;33m\u001b[0m\u001b[0m\n",
      "\u001b[1;32m<ipython-input-327-e14090a48019>\u001b[0m in \u001b[0;36mstep\u001b[1;34m(self, parent_node, parent_connection_label, data, headers)\u001b[0m\n\u001b[0;32m     30\u001b[0m \u001b[1;33m\u001b[0m\u001b[0m\n\u001b[0;32m     31\u001b[0m         \u001b[1;32mfor\u001b[0m \u001b[0msplited_value\u001b[0m\u001b[1;33m,\u001b[0m \u001b[0msplited_data\u001b[0m \u001b[1;32min\u001b[0m \u001b[0mmax_splited\u001b[0m\u001b[1;33m.\u001b[0m\u001b[0mitems\u001b[0m\u001b[1;33m(\u001b[0m\u001b[1;33m)\u001b[0m\u001b[1;33m:\u001b[0m\u001b[1;33m\u001b[0m\u001b[0m\n\u001b[1;32m---> 32\u001b[1;33m             \u001b[0mself\u001b[0m\u001b[1;33m.\u001b[0m\u001b[0mstep\u001b[0m\u001b[1;33m(\u001b[0m\u001b[0mnode\u001b[0m\u001b[1;33m,\u001b[0m \u001b[0msplited_value\u001b[0m\u001b[1;33m,\u001b[0m \u001b[0msplited_data\u001b[0m\u001b[1;33m,\u001b[0m \u001b[0mnew_headers\u001b[0m\u001b[1;33m)\u001b[0m\u001b[1;33m\u001b[0m\u001b[0m\n\u001b[0m\u001b[0;32m     33\u001b[0m \u001b[1;33m\u001b[0m\u001b[0m\n\u001b[0;32m     34\u001b[0m \u001b[1;33m\u001b[0m\u001b[0m\n",
      "\u001b[1;32m<ipython-input-327-e14090a48019>\u001b[0m in \u001b[0;36mstep\u001b[1;34m(self, parent_node, parent_connection_label, data, headers)\u001b[0m\n\u001b[0;32m     29\u001b[0m         \u001b[0mnew_headers\u001b[0m \u001b[1;33m=\u001b[0m \u001b[1;33m[\u001b[0m\u001b[0mheader\u001b[0m \u001b[1;32mfor\u001b[0m \u001b[0mheader\u001b[0m \u001b[1;32min\u001b[0m \u001b[0mheaders\u001b[0m \u001b[1;32mif\u001b[0m \u001b[0mheader\u001b[0m \u001b[1;33m!=\u001b[0m \u001b[0mmax_header\u001b[0m\u001b[1;33m]\u001b[0m\u001b[1;33m\u001b[0m\u001b[0m\n\u001b[0;32m     30\u001b[0m \u001b[1;33m\u001b[0m\u001b[0m\n\u001b[1;32m---> 31\u001b[1;33m         \u001b[1;32mfor\u001b[0m \u001b[0msplited_value\u001b[0m\u001b[1;33m,\u001b[0m \u001b[0msplited_data\u001b[0m \u001b[1;32min\u001b[0m \u001b[0mmax_splited\u001b[0m\u001b[1;33m.\u001b[0m\u001b[0mitems\u001b[0m\u001b[1;33m(\u001b[0m\u001b[1;33m)\u001b[0m\u001b[1;33m:\u001b[0m\u001b[1;33m\u001b[0m\u001b[0m\n\u001b[0m\u001b[0;32m     32\u001b[0m             \u001b[0mself\u001b[0m\u001b[1;33m.\u001b[0m\u001b[0mstep\u001b[0m\u001b[1;33m(\u001b[0m\u001b[0mnode\u001b[0m\u001b[1;33m,\u001b[0m \u001b[0msplited_value\u001b[0m\u001b[1;33m,\u001b[0m \u001b[0msplited_data\u001b[0m\u001b[1;33m,\u001b[0m \u001b[0mnew_headers\u001b[0m\u001b[1;33m)\u001b[0m\u001b[1;33m\u001b[0m\u001b[0m\n\u001b[0;32m     33\u001b[0m \u001b[1;33m\u001b[0m\u001b[0m\n",
      "\u001b[1;31mAttributeError\u001b[0m: 'NoneType' object has no attribute 'items'"
     ]
    }
   ],
   "source": [
    "tree = ID3Tree(raw_data, \"PlayTennis\")\n",
    "tree.build()"
   ]
  },
  {
   "cell_type": "code",
   "execution_count": null,
   "metadata": {
    "collapsed": true
   },
   "outputs": [],
   "source": []
  }
 ],
 "metadata": {
  "kernelspec": {
   "display_name": "Python 2",
   "language": "python",
   "name": "python2"
  },
  "language_info": {
   "codemirror_mode": {
    "name": "ipython",
    "version": 2
   },
   "file_extension": ".py",
   "mimetype": "text/x-python",
   "name": "python",
   "nbconvert_exporter": "python",
   "pygments_lexer": "ipython2",
   "version": "2.7.6"
  }
 },
 "nbformat": 4,
 "nbformat_minor": 0
}
