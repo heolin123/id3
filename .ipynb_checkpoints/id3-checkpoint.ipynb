{
 "cells": [
  {
   "cell_type": "code",
   "execution_count": 15,
   "metadata": {
    "collapsed": true
   },
   "outputs": [],
   "source": [
    "import math\n",
    "import sys\n",
    "import pandas as pd\n",
    "import numpy as np"
   ]
  },
  {
   "cell_type": "code",
   "execution_count": 16,
   "metadata": {
    "collapsed": true
   },
   "outputs": [],
   "source": [
    "def entropy(elements, base):\n",
    "    length = float(len(elements))\n",
    "    probs = [elements.count(element)/length for element in set(elements)]\n",
    "    return -sum([p * math.log(p, base) for p in probs])"
   ]
  },
  {
   "cell_type": "code",
   "execution_count": 17,
   "metadata": {
    "collapsed": true
   },
   "outputs": [],
   "source": [
    "def split_dataframe(data, header):\n",
    "    unique_values = data[header].unique()\n",
    "    result_dict = {elem : pd.DataFrame for elem in unique_values}\n",
    "    for key in result_dict.keys():\n",
    "        result_dict[key] = data[:][data[header] == key]\n",
    "    return result_dict"
   ]
  },
  {
   "cell_type": "code",
   "execution_count": 26,
   "metadata": {
    "collapsed": true
   },
   "outputs": [],
   "source": [
    "def tree_split(data, target_header, base):\n",
    "    length = float(len(data))\n",
    "    max_value, max_header = -sys.maxint, None\n",
    "    max_splited = None\n",
    "    H = entropy(data[target_header].tolist(), base)\n",
    "    for header in list(data)[:-1]:\n",
    "        splited_set = split_dataframe(data, header)\n",
    "        IS = 0\n",
    "        for subset_header, subset in splited_set.items():\n",
    "            subset_length = float(len(subset))\n",
    "            subset_h = entropy(subset[target_header].tolist(), base)\n",
    "            IS += subset_length/length * subset_h\n",
    "        IG = H - IS\n",
    "        if IG > max_value:\n",
    "            max_value, max_header = IG, header\n",
    "            max_splited = splited_set\n",
    "\n",
    "    return max_value, max_header, max_splited\n"
   ]
  },
  {
   "cell_type": "code",
   "execution_count": 50,
   "metadata": {
    "collapsed": true
   },
   "outputs": [],
   "source": [
    "class ID3Tree(object):\n",
    "    class Node(object):\n",
    "        def __init__(self, name):\n",
    "            self.name = name\n",
    "            self.connections = {}\n",
    "        \n",
    "        def connect(self, label, node):\n",
    "            self.connections[label] = node\n",
    "        \n",
    "    \n",
    "    def __init__(self, data, target_header, base=2):\n",
    "        self.headers = list(data)[1:]\n",
    "        self.data = data\n",
    "        self.target_header = target_header\n",
    "        self.base = base\n",
    "        self.root = self.Node(\"Root\")\n",
    "        \n",
    "    def print_tree(self, node, tabs):\n",
    "        print tabs + node.name\n",
    "        for connection, child_node in node.connections.items():\n",
    "            print tabs + \"\\t\" + \"(\" + connection + \")\"\n",
    "            print_tree(child_node, tabs+\"\\t\\t\")\n",
    "\n",
    "    def build(self):\n",
    "        self.step(self.root, \"\", self.data, self.headers)\n",
    "        \n",
    "    def step(self, parent_node, parent_connection_label, input_data, headers):\n",
    "        max_value, max_header, max_splited = tree_split(input_data[headers], self.target_header, self.base)\n",
    "        \n",
    "        if not max_header:\n",
    "            node = self.Node(input_data[self.target_header].iloc[0])\n",
    "            parent_node.connect(parent_connection_label, node)\n",
    "            return\n",
    "        \n",
    "        node = self.Node(max_header)\n",
    "        parent_node.connect(parent_connection_label, node)\n",
    "        \n",
    "        new_headers = [header for header in headers if header != max_header]\n",
    "         \n",
    "        for splited_value, splited_data in max_splited.items():\n",
    "            self.step(node, splited_value, splited_data, new_headers)\n",
    "        \n",
    "        \n",
    "        "
   ]
  },
  {
   "cell_type": "code",
   "execution_count": 51,
   "metadata": {
    "collapsed": false
   },
   "outputs": [
    {
     "name": "stdout",
     "output_type": "stream",
     "text": [
      "Root\n",
      "\t()\n",
      "\t\tOutlook\n",
      "\t\t\t(Overcast)\n",
      "\t\t\t\tTemperature\n",
      "\t\t\t\t\t(Hot)\n",
      "\t\t\t\t\t\tHumidity\n",
      "\t\t\t\t\t\t\t(High)\n",
      "\t\t\t\t\t\t\t\tWind\n",
      "\t\t\t\t\t\t\t\t\t(Weak)\n",
      "\t\t\t\t\t\t\t\t\t\tYes\n",
      "\t\t\t\t\t\t\t(Normal)\n",
      "\t\t\t\t\t\t\t\tWind\n",
      "\t\t\t\t\t\t\t\t\t(Weak)\n",
      "\t\t\t\t\t\t\t\t\t\tYes\n",
      "\t\t\t\t\t(Mild)\n",
      "\t\t\t\t\t\tHumidity\n",
      "\t\t\t\t\t\t\t(High)\n",
      "\t\t\t\t\t\t\t\tWind\n",
      "\t\t\t\t\t\t\t\t\t(Strong)\n",
      "\t\t\t\t\t\t\t\t\t\tYes\n",
      "\t\t\t\t\t(Cool)\n",
      "\t\t\t\t\t\tHumidity\n",
      "\t\t\t\t\t\t\t(Normal)\n",
      "\t\t\t\t\t\t\t\tWind\n",
      "\t\t\t\t\t\t\t\t\t(Strong)\n",
      "\t\t\t\t\t\t\t\t\t\tYes\n",
      "\t\t\t(Sunny)\n",
      "\t\t\t\tHumidity\n",
      "\t\t\t\t\t(High)\n",
      "\t\t\t\t\t\tTemperature\n",
      "\t\t\t\t\t\t\t(Hot)\n",
      "\t\t\t\t\t\t\t\tWind\n",
      "\t\t\t\t\t\t\t\t\t(Strong)\n",
      "\t\t\t\t\t\t\t\t\t\tNo\n",
      "\t\t\t\t\t\t\t\t\t(Weak)\n",
      "\t\t\t\t\t\t\t\t\t\tNo\n",
      "\t\t\t\t\t\t\t(Mild)\n",
      "\t\t\t\t\t\t\t\tWind\n",
      "\t\t\t\t\t\t\t\t\t(Weak)\n",
      "\t\t\t\t\t\t\t\t\t\tNo\n",
      "\t\t\t\t\t(Normal)\n",
      "\t\t\t\t\t\tTemperature\n",
      "\t\t\t\t\t\t\t(Mild)\n",
      "\t\t\t\t\t\t\t\tWind\n",
      "\t\t\t\t\t\t\t\t\t(Strong)\n",
      "\t\t\t\t\t\t\t\t\t\tYes\n",
      "\t\t\t\t\t\t\t(Cool)\n",
      "\t\t\t\t\t\t\t\tWind\n",
      "\t\t\t\t\t\t\t\t\t(Weak)\n",
      "\t\t\t\t\t\t\t\t\t\tYes\n",
      "\t\t\t(Rain)\n",
      "\t\t\t\tWind\n",
      "\t\t\t\t\t(Strong)\n",
      "\t\t\t\t\t\tTemperature\n",
      "\t\t\t\t\t\t\t(Mild)\n",
      "\t\t\t\t\t\t\t\tHumidity\n",
      "\t\t\t\t\t\t\t\t\t(High)\n",
      "\t\t\t\t\t\t\t\t\t\tNo\n",
      "\t\t\t\t\t\t\t(Cool)\n",
      "\t\t\t\t\t\t\t\tHumidity\n",
      "\t\t\t\t\t\t\t\t\t(Normal)\n",
      "\t\t\t\t\t\t\t\t\t\tNo\n",
      "\t\t\t\t\t(Weak)\n",
      "\t\t\t\t\t\tTemperature\n",
      "\t\t\t\t\t\t\t(Mild)\n",
      "\t\t\t\t\t\t\t\tHumidity\n",
      "\t\t\t\t\t\t\t\t\t(High)\n",
      "\t\t\t\t\t\t\t\t\t\tYes\n",
      "\t\t\t\t\t\t\t\t\t(Normal)\n",
      "\t\t\t\t\t\t\t\t\t\tYes\n",
      "\t\t\t\t\t\t\t(Cool)\n",
      "\t\t\t\t\t\t\t\tHumidity\n",
      "\t\t\t\t\t\t\t\t\t(Normal)\n",
      "\t\t\t\t\t\t\t\t\t\tYes\n"
     ]
    }
   ],
   "source": [
    "raw_data = pd.DataFrame(pd.read_csv(\"data.tsv\", sep=\"\\t\"))\n",
    "tree = ID3Tree(raw_data, \"PlayTennis\")\n",
    "tree.build()\n",
    "tree.print(tree.root, \"\")"
   ]
  },
  {
   "cell_type": "code",
   "execution_count": null,
   "metadata": {
    "collapsed": true
   },
   "outputs": [],
   "source": []
  }
 ],
 "metadata": {
  "kernelspec": {
   "display_name": "Python 2",
   "language": "python",
   "name": "python2"
  },
  "language_info": {
   "codemirror_mode": {
    "name": "ipython",
    "version": 2
   },
   "file_extension": ".py",
   "mimetype": "text/x-python",
   "name": "python",
   "nbconvert_exporter": "python",
   "pygments_lexer": "ipython2",
   "version": "2.7.6"
  }
 },
 "nbformat": 4,
 "nbformat_minor": 0
}
